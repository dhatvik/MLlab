{
 "cells": [
  {
   "cell_type": "code",
   "execution_count": 48,
   "metadata": {},
   "outputs": [
    {
     "name": "stdout",
     "output_type": "stream",
     "text": [
      "Encoded value of weather outlook: [2 2 0 1 1 1 0 2 2 1 2 0 0 1]\n",
      "Encoded value of Temp: [1 1 1 2 0 0 0 2 0 2 2 2 1 2]\n",
      "Encoded value of humidity: [0 0 0 0 1 1 1 0 1 1 1 0 1 0]\n",
      "Encoded value of windy: [1 0 1 1 1 0 0 1 1 1 0 0 1 0]\n",
      "\n",
      "Encoded value of Play: [0 0 1 1 1 0 1 0 1 1 1 1 1 0]\n",
      "Encoded features for each row is \n",
      " ((2, 1, 0, 1), (2, 1, 0, 0), (0, 1, 0, 1), (1, 2, 0, 1), (1, 0, 1, 1), (1, 0, 1, 0), (0, 0, 1, 0), (2, 2, 0, 1), (2, 0, 1, 1), (1, 2, 1, 1), (2, 2, 1, 0), (0, 2, 0, 0), (0, 1, 1, 1), (1, 2, 0, 0))\n",
      "Predicted Value: [1]\n",
      "Play Tennis: Yes\n"
     ]
    }
   ],
   "source": [
    "weather=['Sunny','Sunny','Overcast','Rainy','Rainy','Rainy','Overcast','Sunny','Sunny','Rainy','Sunny','Overcast','Overcast','Rainy']\n",
    "temp=['Hot','Hot','Hot','Mild','Cool','Cool','Cool','Mild','Cool','Mild','Mild','Mild','Hot','Mild']\n",
    "humidity=['High', 'High','High','High','Normal','Normal','Normal','High', 'Normal','Normal','Normal','High','Normal','High'] \n",
    "windy=['weak', 'strong', 'weak', 'weak', 'weak', 'strong', 'strong', 'weak', 'weak', 'weak', 'strong', 'strong', 'weak','strong']\n",
    "\n",
    "\n",
    "play=['No','No','Yes','Yes','Yes','No','Yes','No','Yes','Yes','Yes','Yes','Yes','No']\n",
    "\n",
    "\n",
    "from sklearn import preprocessing\n",
    "\n",
    "labelEncoder = preprocessing.LabelEncoder()\n",
    "\n",
    "weather_encoded=labelEncoder.fit_transform(weather)\n",
    "print (\"Encoded value of weather outlook:\", weather_encoded)\n",
    "\n",
    "temp_encoded=labelEncoder.fit_transform(temp)\n",
    "print (\"Encoded value of Temp:\",temp_encoded)\n",
    "\n",
    "humidity_encoded=labelEncoder.fit_transform(humidity)\n",
    "print (\"Encoded value of humidity:\", humidity_encoded)\n",
    "\n",
    "windy_encoded=labelEncoder.fit_transform(windy)\n",
    "print (\"Encoded value of windy:\", windy_encoded)\n",
    "\n",
    "label=labelEncoder.fit_transform(play)\n",
    "print (\"\\nEncoded value of Play:\",label)\n",
    "\n",
    "features=tuple(zip(weather_encoded,temp_encoded,humidity_encoded,windy_encoded))\n",
    "print (\"Encoded features for each row is \\n\", features)\n",
    "\n",
    "from sklearn.naive_bayes import GaussianNB\n",
    "\n",
    "model = GaussianNB()\n",
    "\n",
    "model.fit(features,label)\n",
    "\n",
    "new_data = [0,2,0,0] \n",
    "\n",
    "predicted= model.predict([new_data]) \n",
    "print (\"Predicted Value:\", predicted)\n",
    "\n",
    "print (\"Play Tennis: Yes\" if predicted else \"Play Tennis: No\")\n"
   ]
  }
 ],
 "metadata": {
  "kernelspec": {
   "display_name": "Python 3",
   "language": "python",
   "name": "python3"
  },
  "language_info": {
   "codemirror_mode": {
    "name": "ipython",
    "version": 3
   },
   "file_extension": ".py",
   "mimetype": "text/x-python",
   "name": "python",
   "nbconvert_exporter": "python",
   "pygments_lexer": "ipython3",
   "version": "3.8.3"
  }
 },
 "nbformat": 4,
 "nbformat_minor": 4
}
