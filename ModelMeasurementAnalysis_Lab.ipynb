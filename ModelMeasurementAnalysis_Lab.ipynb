{
 "cells": [
  {
   "cell_type": "code",
   "execution_count": 16,
   "metadata": {},
   "outputs": [],
   "source": [
    "import numpy as np\n",
    "import matplotlib.pyplot as plt\n",
    "import seaborn as sns\n",
    "import pandas as pd\n",
    "from sklearn.metrics import confusion_matrix\n",
    "from sklearn.metrics import accuracy_score\n",
    "from sklearn.metrics import precision_score\n",
    "from sklearn.metrics import recall_score\n",
    "from sklearn.metrics import f1_score\n",
    "from sklearn.metrics import roc_auc_score\n",
    "from sklearn.metrics import roc_curve\n",
    "from sklearn.metrics import precision_recall_curve"
   ]
  },
  {
   "cell_type": "code",
   "execution_count": 4,
   "metadata": {},
   "outputs": [
    {
     "name": "stdout",
     "output_type": "stream",
     "text": [
      "[1, 1, 1, 1, 1, 1, 1, 1, 1, 1, 0, 0, 0, 0, 0, 0, 0, 0, 0, 0]\n",
      "[1, 1, 1, 1, 1, 1, 1, 1, 1, 0, 1, 1, 0, 0, 0, 0, 0, 0, 0, 0]\n"
     ]
    }
   ],
   "source": [
    "actual_a=[1 for i in range(10)]+[0 for i in range(10)]\n",
    "predicted_a=[1 for i in range(9)]+[0,1,1]+[0 for i in range(8)]\n",
    "print(actual_a)\n",
    "print(predicted_a)"
   ]
  },
  {
   "cell_type": "code",
   "execution_count": 5,
   "metadata": {},
   "outputs": [
    {
     "name": "stdout",
     "output_type": "stream",
     "text": [
      "[[9 1]\n",
      "  [2 8]]\n",
      "[[8 2]\n",
      " [1 9]]\n"
     ]
    }
   ],
   "source": [
    "def my_confusion_matrix(actual,predicted):\n",
    "    TP=len([a for a,p in zip(actual,predicted) if a==p and p==1])\n",
    "    TN=len([a for a,p in zip(actual,predicted) if a==p and p==0])\n",
    "    FP=len([a for a,p in zip(actual,predicted) if a!=p and p==1])\n",
    "    FN=len([a for a,p in zip(actual,predicted) if a!=p and p==0])\n",
    "    return \"[[{} {}]\\n  [{} {}]]\".format(TP,FN,FP,TN)\n",
    "print(my_confusion_matrix(actual_a,predicted_a))\n",
    "print(confusion_matrix(actual_a,predicted_a))"
   ]
  },
  {
   "cell_type": "code",
   "execution_count": 6,
   "metadata": {},
   "outputs": [
    {
     "data": {
      "text/plain": [
       "<matplotlib.axes._subplots.AxesSubplot at 0x13e6fbc6cd0>"
      ]
     },
     "execution_count": 6,
     "metadata": {},
     "output_type": "execute_result"
    },
    {
     "data": {
      "image/png": "[encoded data removed]",
      "text/plain": [
       "<Figure size 432x288 with 3 Axes>"
      ]
     },
     "metadata": {
      "needs_background": "light"
     },
     "output_type": "display_data"
    }
   ],
   "source": [
    "array = [[9,1], \n",
    "        [2,8]]\n",
    "df_cm=pd.DataFrame(array, range(2), range(2))\n",
    "sns.heatmap(df_cm,annot=True,cmap='Blues')\n",
    "\n",
    "array = [[8,2], \n",
    "        [1,9]]\n",
    "\n",
    "df_cm=pd.DataFrame(array,range(2),range(2))\n",
    "sns.heatmap(df_cm,annot=True,cmap=\"Oranges_r\")"
   ]
  },
  {
   "cell_type": "code",
   "execution_count": 7,
   "metadata": {},
   "outputs": [
    {
     "name": "stdout",
     "output_type": "stream",
     "text": [
      "0.85\n",
      "0.85\n"
     ]
    }
   ],
   "source": [
    "def my_accuracy_score(actual,predicted):\n",
    "    TP=len([a for a,p in zip(actual,predicted) if a==p and p==1])\n",
    "    TN=len([a for a,p in zip(actual,predicted) if a==p and p==0])\n",
    "    FP=len([a for a,p in zip(actual,predicted) if a!=p and p==1])\n",
    "    FN=len([a for a,p in zip(actual,predicted) if a!=p and p==0])\n",
    "    return (TP+TN)/(TP+TN+FP+FN)\n",
    "print(my_accuracy_score(actual_a,predicted_a))\n",
    "print(accuracy_score(actual_a,predicted_a))\n",
    "    "
   ]
  },
  {
   "cell_type": "code",
   "execution_count": 8,
   "metadata": {},
   "outputs": [
    {
     "name": "stdout",
     "output_type": "stream",
     "text": [
      "0.8181818181818182\n",
      "0.8181818181818182\n"
     ]
    }
   ],
   "source": [
    "def my_precision_score(actual,predicted):\n",
    "    TP=len([a for a,p in zip(actual,predicted) if a==p and p==1])\n",
    "    FP=len([a for a,p in zip(actual,predicted) if a!=p and p==1])\n",
    "    return TP/(TP+FP)\n",
    "print(my_precision_score(actual_a,predicted_a))\n",
    "print(precision_score(actual_a,predicted_a))\n"
   ]
  },
  {
   "cell_type": "code",
   "execution_count": 9,
   "metadata": {},
   "outputs": [
    {
     "name": "stdout",
     "output_type": "stream",
     "text": [
      "0.9\n",
      "0.9\n"
     ]
    }
   ],
   "source": [
    "def my_recall_score(actual,predicted):\n",
    "    TP=len([a for a,p in zip(actual,predicted) if a==p and p==1])\n",
    "    FN=len([a for a,p in zip(actual,predicted) if a!=p and p==0])\n",
    "    return TP/(TP+FN)\n",
    "print(my_recall_score(actual_a,predicted_a))\n",
    "print(recall_score(actual_a,predicted_a))\n"
   ]
  },
  {
   "cell_type": "code",
   "execution_count": 13,
   "metadata": {},
   "outputs": [
    {
     "name": "stdout",
     "output_type": "stream",
     "text": [
      "0.8571428571428572\n",
      "0.8571428571428572\n"
     ]
    }
   ],
   "source": [
    "def my_f1_score(actual,predicted):\n",
    "    x=my_precision_score(actual_a,predicted_a)\n",
    "    y=my_recall_score(actual_a,predicted_a)\n",
    "    return (2*x*y)/(x+y)\n",
    "print(my_f1_score(actual_a,predicted_a))\n",
    "print(f1_score(actual_a,predicted_a))"
   ]
  },
  {
   "cell_type": "code",
   "execution_count": 17,
   "metadata": {},
   "outputs": [
    {
     "data": {
      "image/png": "[encoded data removed]",
      "text/plain": [
       "<Figure size 432x288 with 1 Axes>"
      ]
     },
     "metadata": {
      "needs_background": "light"
     },
     "output_type": "display_data"
    }
   ],
   "source": [
    "precision,recall,_ =precision_recall_curve(actual_a,predicted_a)\n",
    "plt.step(recall,precision,color='g',alpha=0.2,where='post')\n",
    "plt.fill_between(recall,precision,color='g',alpha=0.2,step='post')\n",
    "plt.xlim([0.0,1.0])\n",
    "plt.ylim([0.0,1.0])\n",
    "plt.show()"
   ]
  },
  {
   "cell_type": "code",
   "execution_count": 25,
   "metadata": {},
   "outputs": [
    {
     "name": "stdout",
     "output_type": "stream",
     "text": [
      "0.85\n"
     ]
    },
    {
     "data": {
      "image/png": "[encoded data removed]",
      "text/plain": [
       "<Figure size 432x288 with 1 Axes>"
      ]
     },
     "metadata": {
      "needs_background": "light"
     },
     "output_type": "display_data"
    }
   ],
   "source": [
    "print(roc_auc_score(actual_a,predicted_a))\n",
    "fpr,tpr,_ =roc_curve(actual_a,predicted_a)\n",
    "# plt.figure()\n",
    "plt.plot(fpr,tpr,color='orange',lw=2,label=\"ROC_CURVE\")\n",
    "plt.plot([0,1],[0,1],color='navy',lw=2,linestyle='--')\n",
    "plt.xlim([0.0,1.0])\n",
    "plt.ylim([0.0,1.0])\n",
    "plt.legend(loc=\"lower right\")\n",
    "plt.show()"
   ]
  },
  {
   "cell_type": "code",
   "execution_count": null,
   "metadata": {},
   "outputs": [],
   "source": []
  }
 ],
 "metadata": {
  "kernelspec": {
   "display_name": "Python 3",
   "language": "python",
   "name": "python3"
  },
  "language_info": {
   "codemirror_mode": {
    "name": "ipython",
    "version": 3
   },
   "file_extension": ".py",
   "mimetype": "text/x-python",
   "name": "python",
   "nbconvert_exporter": "python",
   "pygments_lexer": "ipython3",
   "version": "3.8.3"
  }
 },
 "nbformat": 4,
 "nbformat_minor": 4
}
